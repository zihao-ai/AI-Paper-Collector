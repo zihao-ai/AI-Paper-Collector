{
  "nbformat": 4,
  "nbformat_minor": 0,
  "metadata": {
    "colab": {
      "name": "AI_Paper_Collector_Colab.ipynb",
      "provenance": [],
      "collapsed_sections": [],
      "authorship_tag": "ABX9TyMm75GWG3Ln1u1ZpbFDnUE0",
      "include_colab_link": true
    },
    "kernelspec": {
      "name": "python3",
      "display_name": "Python 3"
    },
    "language_info": {
      "name": "python"
    }
  },
  "cells": [
    {
      "cell_type": "markdown",
      "metadata": {
        "id": "view-in-github",
        "colab_type": "text"
      },
      "source": [
        "<a href=\"https://colab.research.google.com/github/Doragd/AI-Paper-collector-Dev/blob/main/colab/AI_Paper_Collector_Colab.ipynb\" target=\"_parent\"><img src=\"https://colab.research.google.com/assets/colab-badge.svg\" alt=\"Open In Colab\"/></a>"
      ]
    },
    {
      "cell_type": "code",
      "execution_count": 1,
      "metadata": {
        "id": "DegZMfrIYHsn"
      },
      "outputs": [],
      "source": [
        "from IPython.display import clear_output"
      ]
    },
    {
      "cell_type": "markdown",
      "source": [
        "# Installation"
      ],
      "metadata": {
        "id": "rNIGksT_YgvJ"
      }
    },
    {
      "cell_type": "code",
      "source": [
        "!git clone https://github.com/MLNLP-World/AI-Paper-Collector.git && cd AI-Paper-Collector && pip install -r requirements.txt\n",
        "clear_output()"
      ],
      "metadata": {
        "id": "1SgJKv8UYfh4"
      },
      "execution_count": 3,
      "outputs": []
    },
    {
      "cell_type": "code",
      "source": [
        "cd AI-Paper-Collector"
      ],
      "metadata": {
        "colab": {
          "base_uri": "https://localhost:8080/"
        },
        "id": "1c01_6m6FcmG",
        "outputId": "b460ae60-9776-47ca-9c18-8e12ce8290d6"
      },
      "execution_count": 4,
      "outputs": [
        {
          "output_type": "stream",
          "name": "stdout",
          "text": [
            "/content/AI-Paper-Collector\n"
          ]
        }
      ]
    },
    {
      "cell_type": "markdown",
      "source": [
        "# Usage in command-line mode"
      ],
      "metadata": {
        "id": "isouY9NiYx-Q"
      }
    },
    {
      "cell_type": "markdown",
      "source": [
        "## Fuzzy search"
      ],
      "metadata": {
        "id": "64u5WAcdaFLY"
      }
    },
    {
      "cell_type": "code",
      "source": [
        "!python cli_main.py -q cold-start -m fuzzy -t 10 -l 10 -c SIGIR,WWW,WSDM,ECIR,KDD,CIKM"
      ],
      "metadata": {
        "colab": {
          "base_uri": "https://localhost:8080/"
        },
        "id": "W7nnqwQEZNDe",
        "outputId": "bf69e71c-c6b4-42e7-bad4-c1bb06a2ee80"
      },
      "execution_count": 5,
      "outputs": [
        {
          "output_type": "stream",
          "name": "stdout",
          "text": [
            "\n",
            "  ___  _____ _____                     _               \n",
            " / _ \\|_   _/  ___|                   | |              \n",
            "/ /_\\ \\ | | \\ `--.  ___  __ _ _ __ ___| |__   ___ _ __ \n",
            "|  _  | | |  `--. \\/ _ \\/ _` | '__/ __| '_ \\ / _ \\ '__|\n",
            "| | | |_| |_/\\__/ /  __/ (_| | | | (__| | | |  __/ |   \n",
            "\\_| |_/\\___/\\____/ \\___|\\__,_|_|  \\___|_| |_|\\___|_|  \n",
            "\n",
            "AI-Paper-Collector V0.1\n",
            "\n",
            "\n",
            "Tips:\n",
            "- enter \"q\" into any input to exit the program.\n",
            "- enter \"#\" into any input to clear the screen.\n",
            "- enter \"h\" into any input to see the help information.\n",
            "- enter nothing means search with default settings.\n",
            "\n",
            "\n",
            "[+] Initializing System...\n",
            "[+] Loading from cache...\n",
            "\n",
            "[+] Search Results:\n",
            "[=] Only show Top-5, Please Save results to see all.\n",
            "\n",
            "[1] [WWW2021] Task-adaptive Neural Process for User Cold-Start Recommendation.\n",
            "[2] [KDD2020] MAMO: Memory-Augmented Meta-Optimization for Cold-start Recommendation.\n",
            "[3] [KDD2019] MeLU: Meta-Learned User Preference Estimator for Cold-Start Recommendation.\n",
            "[4] [CIKM2021] CMML: Contextual Modulation Meta Learning for Cold-Start Recommendation.\n",
            "[5] [CIKM2021] Reinforcement Learning to Optimize Lifetime Value in Cold-Start Recommendation.\n",
            "\n",
            "[+] Writing results to output/fuzzy_10_SIGIR_WWW_WSDM_ECIR_KDD_CIKM_cold-start.txt\n",
            "[+] Writing results Done!\n",
            "\n"
          ]
        }
      ]
    },
    {
      "cell_type": "markdown",
      "source": [
        "## Exact search"
      ],
      "metadata": {
        "id": "dhBUKJpbaHEr"
      }
    },
    {
      "cell_type": "code",
      "source": [
        "!python cli_main.py -q cold-start -m exact"
      ],
      "metadata": {
        "colab": {
          "base_uri": "https://localhost:8080/"
        },
        "id": "yyhj4fwEZWoh",
        "outputId": "e14f360e-8827-4986-e734-24775707b35e"
      },
      "execution_count": null,
      "outputs": [
        {
          "output_type": "stream",
          "name": "stdout",
          "text": [
            "\n",
            "  ___  _____ _____                     _               \n",
            " / _ \\|_   _/  ___|                   | |              \n",
            "/ /_\\ \\ | | \\ `--.  ___  __ _ _ __ ___| |__   ___ _ __ \n",
            "|  _  | | |  `--. \\/ _ \\/ _` | '__/ __| '_ \\ / _ \\ '__|\n",
            "| | | |_| |_/\\__/ /  __/ (_| | | | (__| | | |  __/ |   \n",
            "\\_| |_/\\___/\\____/ \\___|\\__,_|_|  \\___|_| |_|\\___|_|  \n",
            "\n",
            "AI-Paper-Collector V0.1\n",
            "\n",
            "\n",
            "Tips:\n",
            "- enter \"q\" into any input to exit the program.\n",
            "- enter \"#\" into any input to clear the screen.\n",
            "- enter \"h\" into any input to see the help information.\n",
            "- enter nothing means search with default settings.\n",
            "\n",
            "\n",
            "[+] Initializing System...\n",
            "[+] Loading from cache...\n",
            "\n",
            "[+] Search Results:\n",
            "[=] Only show Top-5, Please Save results to see all.\n",
            "\n",
            "[1] [EMNLP2020] Cold-Start and Interpretability: Turning Regular Expressions into Trainable Recurrent Neural Networks\n",
            "[2] [EMNLP2020] Cold-start Active Learning through Self-supervised Language Modeling\n",
            "[3] [WWW2021] Task-adaptive Neural Process for User Cold-Start Recommendation.\n",
            "[4] [AAAI2021] Cold-start Sequential Recommendation via Meta Learner.\n",
            "[5] [AAAI2021] Personalized Adaptive Meta Learning for Cold-start User Preference Prediction.\n",
            "\n",
            "[+] Writing results to output/exact_50_None_cold-start.txt\n",
            "[+] Writing results Done!\n",
            "\n"
          ]
        }
      ]
    },
    {
      "cell_type": "markdown",
      "source": [
        "# Usage in interactive mode"
      ],
      "metadata": {
        "id": "8eeME13VFqBW"
      }
    },
    {
      "cell_type": "code",
      "source": [
        "!python main.py"
      ],
      "metadata": {
        "id": "3SHUNHGzaL7T",
        "colab": {
          "base_uri": "https://localhost:8080/"
        },
        "outputId": "e9ba159d-cea3-46dc-ecd3-bb4a341c12df"
      },
      "execution_count": 8,
      "outputs": [
        {
          "output_type": "stream",
          "name": "stdout",
          "text": [
            "\n",
            "  ___  _____ _____                     _               \n",
            " / _ \\|_   _/  ___|                   | |              \n",
            "/ /_\\ \\ | | \\ `--.  ___  __ _ _ __ ___| |__   ___ _ __ \n",
            "|  _  | | |  `--. \\/ _ \\/ _` | '__/ __| '_ \\ / _ \\ '__|\n",
            "| | | |_| |_/\\__/ /  __/ (_| | | | (__| | | |  __/ |   \n",
            "\\_| |_/\\___/\\____/ \\___|\\__,_|_|  \\___|_| |_|\\___|_|  \n",
            "\n",
            "AI-Paper-Collector V0.1\n",
            "\n",
            "\n",
            "Tips:\n",
            "- enter \"q\" into any input to exit the program.\n",
            "- enter \"#\" into any input to clear the screen.\n",
            "- enter \"h\" into any input to see the help information.\n",
            "- enter nothing means search with default settings.\n",
            "\n",
            "\n",
            "[+] Initializing System...\n",
            "[+] Loading from cache...\n",
            "[+] Enter your query: cold-start\n",
            "\n",
            "[+] Select search mode:\n",
            "\t[1] Exact\n",
            "\t[2] Fuzzy\n",
            "[+] Enter a number between 1 to 2: 2\n",
            "\n",
            "[+] Enter threshold between 0 and 100 (default: 50): 10\n",
            "\n",
            "[+] Enter limit >= 0 (default: None): 10\n",
            "\n",
            "[+] Enter the list of confs separated by comma\n",
            "\tE.g. \"ACL,CVPR\" or \"AAAI\" or enter nothing for all confs\n",
            "[+] Enter your list of conferences (default: All Confs): SIGIR,WWW,WSDM,ECIR,KDD,CIKM\n",
            "\n",
            "[+] Search Results:\n",
            "[=] Only show Top-5, Please Save results to see all.\n",
            "\n",
            "[1] [WWW2021] Task-adaptive Neural Process for User Cold-Start Recommendation.\n",
            "[2] [KDD2020] MAMO: Memory-Augmented Meta-Optimization for Cold-start Recommendation.\n",
            "[3] [KDD2019] MeLU: Meta-Learned User Preference Estimator for Cold-Start Recommendation.\n",
            "[4] [CIKM2021] CMML: Contextual Modulation Meta Learning for Cold-Start Recommendation.\n",
            "[5] [CIKM2021] Reinforcement Learning to Optimize Lifetime Value in Cold-Start Recommendation.\n",
            "\n",
            "[+] Enter Save filename: \n",
            "\n",
            "[+] Writing results to output/fuzzy_10_SIGIR_WWW_WSDM_ECIR_KDD_CIKM_cold-start.txt\n",
            "[+] Writing results Done!\n",
            "\n",
            "[+] Enter your query: q\n",
            "[+] Good bye!\n"
          ]
        }
      ]
    },
    {
      "cell_type": "code",
      "source": [
        ""
      ],
      "metadata": {
        "id": "VViWj-uEFtlh"
      },
      "execution_count": null,
      "outputs": []
    }
  ]
}